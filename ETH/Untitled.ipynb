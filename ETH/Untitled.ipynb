{
 "cells": [
  {
   "cell_type": "code",
   "execution_count": 1,
   "metadata": {},
   "outputs": [],
   "source": [
    "r=load('rho.npy')"
   ]
  },
  {
   "cell_type": "code",
   "execution_count": 2,
   "metadata": {},
   "outputs": [
    {
     "data": {
      "text/plain": [
       "array([[-0.7+0.j,  1. +0.j,  1. +0.j,  0. +0.j,  1. +0.j,  0. +0.j,\n",
       "         0. +0.j,  0. +0.j],\n",
       "       [ 1. +0.j,  0.1+0.j, -2. +0.j,  1. +0.j,  0. +0.j,  1. +0.j,\n",
       "         0. +0.j,  0. +0.j],\n",
       "       [ 1. +0.j, -2. +0.j,  1.1+0.j,  1. +0.j, -2. +0.j,  0. +0.j,\n",
       "         1. +0.j,  0. +0.j],\n",
       "       [ 0. +0.j,  1. +0.j,  1. +0.j, -0.1+0.j,  0. +0.j, -2. +0.j,\n",
       "         0. +0.j,  1. +0.j],\n",
       "       [ 1. +0.j,  0. +0.j, -2. +0.j,  0. +0.j,  0.1+0.j,  1. +0.j,\n",
       "         1. +0.j,  0. +0.j],\n",
       "       [ 0. +0.j,  1. +0.j,  0. +0.j, -2. +0.j,  1. +0.j,  0.9+0.j,\n",
       "        -2. +0.j,  1. +0.j],\n",
       "       [ 0. +0.j,  0. +0.j,  1. +0.j,  0. +0.j,  1. +0.j, -2. +0.j,\n",
       "        -0.1+0.j,  1. +0.j],\n",
       "       [ 0. +0.j,  0. +0.j,  0. +0.j,  1. +0.j,  0. +0.j,  1. +0.j,\n",
       "         1. +0.j, -1.3+0.j]])"
      ]
     },
     "execution_count": 2,
     "metadata": {},
     "output_type": "execute_result"
    }
   ],
   "source": [
    "r"
   ]
  },
  {
   "cell_type": "code",
   "execution_count": 3,
   "metadata": {},
   "outputs": [],
   "source": [
    "import scipy.linalg as la"
   ]
  },
  {
   "cell_type": "code",
   "execution_count": 4,
   "metadata": {},
   "outputs": [
    {
     "data": {
      "text/plain": [
       "array([-5.09871875, -2.45707026, -1.00498756, -0.28711136,  1.00498756,\n",
       "        1.03210259,  2.44500288,  4.3657949 ])"
      ]
     },
     "execution_count": 4,
     "metadata": {},
     "output_type": "execute_result"
    }
   ],
   "source": [
    "la.eigvalsh(r)"
   ]
  },
  {
   "cell_type": "code",
   "execution_count": 5,
   "metadata": {},
   "outputs": [
    {
     "data": {
      "text/plain": [
       "[-1, 2]"
      ]
     },
     "execution_count": 5,
     "metadata": {},
     "output_type": "execute_result"
    }
   ],
   "source": [
    "sorted([-1,2])"
   ]
  },
  {
   "cell_type": "code",
   "execution_count": null,
   "metadata": {},
   "outputs": [],
   "source": []
  }
 ],
 "metadata": {
  "kernelspec": {
   "display_name": "Python 3.6",
   "language": "python",
   "name": "python_3.6"
  },
  "language_info": {
   "codemirror_mode": {
    "name": "ipython",
    "version": 3
   },
   "file_extension": ".py",
   "mimetype": "text/x-python",
   "name": "python",
   "nbconvert_exporter": "python",
   "pygments_lexer": "ipython3",
   "version": "3.6.4"
  }
 },
 "nbformat": 4,
 "nbformat_minor": 2
}
