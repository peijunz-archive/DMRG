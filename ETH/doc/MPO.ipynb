{
 "cells": [
  {
   "cell_type": "markdown",
   "metadata": {},
   "source": [
    "## Power of MPO\n",
    "For $H = J\\sum Z\\otimes Z + \\sum L$, we have MPO given by\n",
    "$$\n",
    "\\begin{pmatrix}\n",
    "1\\\\\n",
    "Z\\\\\n",
    "H\\\\\n",
    "\\end{pmatrix}'\\leftarrow\n",
    "\\begin{bmatrix}\n",
    "1& &\\\\\n",
    "Z& &\\\\\n",
    "L& JZ& 1\\\\\n",
    "\\end{bmatrix}\n",
    "\\begin{pmatrix}\n",
    "1\\\\\n",
    "Z\\\\\n",
    "H\\\\\n",
    "\\end{pmatrix}$$\n",
    "\n",
    "For $H^2$, its MPO is given by\n",
    "$$\n",
    "\\begin{pmatrix}\n",
    "1\\\\\n",
    "Z\\\\\n",
    "H\\\\\n",
    "Z^2\\\\\n",
    "(HZ)\\\\\n",
    "H^2\n",
    "\\end{pmatrix}'\\leftarrow\n",
    "\\begin{bmatrix}\n",
    "1& &&&&\\\\\n",
    "Z& & & & &\\\\\n",
    "L& JZ& 1& & & \\\\\n",
    "Z^2& & & & & \\\\\n",
    "(ZL)& JZ^2& Z& & & \\\\\n",
    "L^2& 2J(ZL)& 2L& J^2Z^2& 2JZ& 1\n",
    "\\end{bmatrix}\n",
    "\\begin{pmatrix}\n",
    "1\\\\\n",
    "Z\\\\\n",
    "H\\\\\n",
    "Z^2\\\\\n",
    "(HZ)\\\\\n",
    "H^2\n",
    "\\end{pmatrix}\n",
    "$$"
   ]
  },
  {
   "cell_type": "markdown",
   "metadata": {},
   "source": [
    "$(JZ_1Z_2+L_1+L_2)^2=J^2Z_1^2Z_2^2+L_1^2+L_2^2+2L_1L_2+2J(LZ)_1Z_2+2J(LZ)_2Z_1$"
   ]
  },
  {
   "cell_type": "markdown",
   "metadata": {},
   "source": [
    "# Generalization\n",
    "If some Hamiltonian $H$ has $k+1$ MPO bases $(1, O_1, O_2,\\ldots , O_{k-1}, H)$, bases of its power $H^n$ can be reduced to $$\\binom{k+n}{n}=\\frac{(k+n)!}{k! n!}$$"
   ]
  },
  {
   "cell_type": "code",
   "execution_count": 45,
   "metadata": {},
   "outputs": [],
   "source": [
    "import numpy as np\n",
    "from functools import reduce\n",
    "def dense_form(MPO):\n",
    "    start = np.zeros(MPO[0].shape[0])\n",
    "    start[0] = 1\n",
    "    def add(l, m):\n",
    "        L = len(l)\n",
    "        return [np.sum([np.kron(l[j], m[j, i]) for j in range(i+1)], axis=0) for i in range(L)]\n",
    "    return reduce(add, [start, *MPO])[-1]"
   ]
  },
  {
   "cell_type": "code",
   "execution_count": 88,
   "metadata": {},
   "outputs": [],
   "source": [
    "from DMRG.spin import sigma\n",
    "# Pauli Matrices\n",
    "I, X, Y, Z = sigma\n",
    "# Zero Matrix\n",
    "O = np.zeros([2,2])\n",
    "def MPO_TL(J=1, g=1, h=1):\n",
    "    '''$H=-\\sum J Z_iZ_{i+1}+\\sum (gX_i+hZ_i)$\n",
    "    NOTE The matrix of operators is upper-triangle after transosition\n",
    "    '''\n",
    "    L = g*X+h*Z # local terms\n",
    "    LZ = (L@Z+Z@L)/2\n",
    "    mpo = np.array([\n",
    "        [I,     O,      O,      O,      O,      O],\n",
    "        [Z,     O,      O,      O,      O,      O],\n",
    "        [L,    -J*Z,    I,      O,      O,      O],\n",
    "        [Z@Z,   O,      O,      O,      O,      O],\n",
    "        [LZ,   -J*Z@Z,  Z,      O,      O,      O],\n",
    "        [L@L,  -2*J*LZ, 2*L,  J*J*Z@Z,  -2*J*Z,  I],\n",
    "        ]).transpose([1,0,2,3])\n",
    "    return mpo[:3, :3], mpo"
   ]
  },
  {
   "cell_type": "code",
   "execution_count": 89,
   "metadata": {},
   "outputs": [],
   "source": [
    "from DMRG.Ising import Hamilton_TL"
   ]
  },
  {
   "cell_type": "code",
   "execution_count": 90,
   "metadata": {},
   "outputs": [],
   "source": [
    "H, H2 = MPO_TL()"
   ]
  },
  {
   "cell_type": "code",
   "execution_count": 91,
   "metadata": {},
   "outputs": [
    {
     "data": {
      "text/plain": [
       "array([[ 10.,   2.,   4., ...,   0.,   0.,   0.],\n",
       "       [  2.,  10.,   2., ...,   0.,   0.,   0.],\n",
       "       [  4.,   2.,  18., ...,   0.,   0.,   0.],\n",
       "       ...,\n",
       "       [  0.,   0.,   0., ..., 130.,   2., -28.],\n",
       "       [  0.,   0.,   0., ...,   2., 178., -30.],\n",
       "       [  0.,   0.,   0., ..., -28., -30., 298.]])"
      ]
     },
     "execution_count": 91,
     "metadata": {},
     "output_type": "execute_result"
    }
   ],
   "source": [
    "H2_1@H2_1"
   ]
  },
  {
   "cell_type": "code",
   "execution_count": 92,
   "metadata": {},
   "outputs": [
    {
     "data": {
      "text/plain": [
       "array([[0., 0., 0., 0.],\n",
       "       [0., 0., 0., 0.],\n",
       "       [0., 0., 0., 0.],\n",
       "       [0., 0., 0., 0.]])"
      ]
     },
     "execution_count": 92,
     "metadata": {},
     "output_type": "execute_result"
    }
   ],
   "source": [
    "n = 2\n",
    "H_ = dense_form([H]*n)\n",
    "H2_ = dense_form([H2]*n)\n",
    "H2_-H_@H_"
   ]
  },
  {
   "cell_type": "code",
   "execution_count": 80,
   "metadata": {},
   "outputs": [],
   "source": [
    "H_2 = Hamilton_TL(9, 1, 1, 1)['H']"
   ]
  },
  {
   "cell_type": "code",
   "execution_count": null,
   "metadata": {},
   "outputs": [],
   "source": []
  }
 ],
 "metadata": {
  "kernelspec": {
   "display_name": "Python 3",
   "language": "python",
   "name": "python3"
  },
  "language_info": {
   "codemirror_mode": {
    "name": "ipython",
    "version": 3
   },
   "file_extension": ".py",
   "mimetype": "text/x-python",
   "name": "python",
   "nbconvert_exporter": "python",
   "pygments_lexer": "ipython3",
   "version": "3.6.5"
  }
 },
 "nbformat": 4,
 "nbformat_minor": 2
}
