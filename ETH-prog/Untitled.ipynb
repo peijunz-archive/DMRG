{
 "cells": [
  {
   "cell_type": "code",
   "execution_count": 1,
   "metadata": {},
   "outputs": [],
   "source": [
    "import ETH.optimization as opt\n",
    "import ETH.basic as bs\n",
    "import analyse as al\n",
    "from importlib import reload"
   ]
  },
  {
   "cell_type": "code",
   "execution_count": 4,
   "metadata": {},
   "outputs": [],
   "source": [
    "reload(al);\n",
    "reload(opt);"
   ]
  },
  {
   "cell_type": "code",
   "execution_count": 6,
   "metadata": {},
   "outputs": [
    {
     "name": "stdout",
     "output_type": "stream",
     "text": [
      "data/Hamilton_XZ_n=6_delta=0.54_g=0±0.2.npy\n"
     ]
    }
   ],
   "source": [
    "data = al.loadData(al.Hamilton_XZ, {\"n\":6, \"delta\":0.54, \"g\":(0, 0.2)})\n",
    "H, R, S=data['H'], data['rho'], data['S']"
   ]
  },
  {
   "cell_type": "code",
   "execution_count": 7,
   "metadata": {},
   "outputs": [
    {
     "data": {
      "text/plain": [
       "(10, 6, 64, 64)"
      ]
     },
     "execution_count": 7,
     "metadata": {},
     "output_type": "execute_result"
    }
   ],
   "source": [
    "R.shape"
   ]
  },
  {
   "cell_type": "code",
   "execution_count": 8,
   "metadata": {},
   "outputs": [],
   "source": [
    "h=H[5,0]\n",
    "r=R[5,0]"
   ]
  },
  {
   "cell_type": "code",
   "execution_count": 9,
   "metadata": {},
   "outputs": [
    {
     "data": {
      "text/plain": [
       "(64, 64)"
      ]
     },
     "execution_count": 9,
     "metadata": {},
     "output_type": "execute_result"
    }
   ],
   "source": [
    "r.shape"
   ]
  },
  {
   "cell_type": "code",
   "execution_count": 10,
   "metadata": {},
   "outputs": [
    {
     "ename": "NameError",
     "evalue": "name 'v' is not defined",
     "output_type": "error",
     "traceback": [
      "\u001b[0;31m---------------------------------------------------------------------------\u001b[0m",
      "\u001b[0;31mNameError\u001b[0m                                 Traceback (most recent call last)",
      "\u001b[0;32m<ipython-input-10-a38eaa4fc0c3>\u001b[0m in \u001b[0;36m<module>\u001b[0;34m()\u001b[0m\n\u001b[0;32m----> 1\u001b[0;31m \u001b[0mv\u001b[0m\u001b[0;34m.\u001b[0m\u001b[0mshape\u001b[0m\u001b[0;34m\u001b[0m\u001b[0m\n\u001b[0m",
      "\u001b[0;31mNameError\u001b[0m: name 'v' is not defined"
     ]
    }
   ],
   "source": [
    "v.shape"
   ]
  },
  {
   "cell_type": "code",
   "execution_count": 11,
   "metadata": {},
   "outputs": [
    {
     "data": {
      "image/svg+xml": [
       "<?xml version=\"1.0\" encoding=\"utf-8\" standalone=\"no\"?>\n",
       "<!DOCTYPE svg PUBLIC \"-//W3C//DTD SVG 1.1//EN\"\n",
       "  \"http://www.w3.org/Graphics/SVG/1.1/DTD/svg11.dtd\">\n",
       "<!-- Created with matplotlib (http://matplotlib.org/) -->\n",
       "<svg height=\"258pt\" version=\"1.1\" viewBox=\"0 0 259 258\" width=\"259pt\" xmlns=\"http://www.w3.org/2000/svg\" xmlns:xlink=\"http://www.w3.org/1999/xlink\">\n",
       " <defs>\n",
       "  <style type=\"text/css\">\n",
       "*{stroke-linecap:butt;stroke-linejoin:round;}\n",
       "  </style>\n",
       " </defs>\n",
       " <g id=\"figure_1\">\n",
       "  <g id=\"patch_1\">\n",
       "   <path d=\"M 0 258.1 \n",
       "L 259.115625 258.1 \n",
       "L 259.115625 0 \n",
       "L 0 0 \n",
       "z\n",
       "\" style=\"fill:none;\"/>\n",
       "  </g>\n",
       "  <g id=\"axes_1\">\n",
       "   <g id=\"patch_2\">\n",
       "    <path d=\"M 25.215625 247.4 \n",
       "L 248.415625 247.4 \n",
       "L 248.415625 24.2 \n",
       "L 25.215625 24.2 \n",
       "z\n",
       "\" style=\"fill:#ffffff;\"/>\n",
       "   </g>\n",
       "   <g clip-path=\"url(#p7f672631f0)\">\n",
       "    <image height=\"224\" id=\"imageb89a2fcf0c\" transform=\"scale(1 -1)translate(0 -224)\" width=\"224\" x=\"25.215625\" xlink:href=\"data:image/png;base64,\n",
       "iVBORw0KGgoAAAANSUhEUgAAAOAAAADgCAYAAAAaLWrhAAAABHNCSVQICAgIfAhkiAAABH5JREFUeJzt3bFuW2UYgGGfNEVV74IBGJHgAioQCwsTd4DE/bByGeyA1B0kxk7cQ4dWJYkPE/U5JnES185rx88zNXLbWI3efv/X36mHb4bvxwWQOKufAJwyAUJIgBASIIQECCEBQkiAEBIghAQIIQFCSIAQEiCEBAghAUJIgBASIIQECCEBQkiAEBIghAQIIQFCSIAQEiCEBAghAUJIgBASIIQECCEBQkiAEBIghAQIIQFCSIAQEiCEBAghAUJIgBASIIQECCEBQkiAEBIghAQIIQFCSIAQEiCEzusnAHc2DPOPx7F5HjtkAkJIgBASIITsgBy26d73CHa+dSYghAQIIUdQDssjvGrYxASEkAAhJEAI2QF37ZH/s/nW1ne72WOTObC82v9zOSAmIIQECCFH0F1z7Lze5M/l7Pnz2UPLt28f+tkcDBMQQgKEkAAhZAfkQUz3vuWbN/MHN11RPHImIIQECCFHUPbif1cN68fOqRO+ujEBISRACAkQQnZAdmbjVQPXMgEhJEAIOYKytXtdNXAtExBCAoSQACFkB+ReXDXslgkIIQFCyBGUjVw17JcJCCEBQkiAELIDHpmH2Mmuvvpi9cHvf+7892fFBISQACHkCHpkxovL7X7hhv9783J65FwsFue//bHd5+DeTEAICRBCAoSQHfDIjFcb3sL57Mnsw+Hp6sv76qfP5z/3o+X7H376g52vYgJCSIAQcgQ9NuPyxoeGs/lVw3C++vL+/d3Ps8c+/uXH3T4vtmICQkiAEBIghOyAj8h4OX+Z2sWL1dXDt5/Mf+5nl3+tft0Jvz9fzQSEkAAh5Ah6ZIYn81e7TI+dl19/OXvs/NfVK1zG8/mXelw6dh4CExBCAoSQACFkBzxy071v03eyr19RcBhMQAgJEEKOoEdm/f8Fffpy9YqWxfpVw6Zv3h1Wf/euX21Mv5HXe0HslwkIIQFCSIAQsgMegened/X69W5+03G1H47L+a44Xvyzm8/BrUxACAkQQo6gB8jbQp8OExBCAoSQACFkBzwQ073Pznc6TEAICRBCjqARVw0sFiYgpAQIIQFCyA74gFw1sM4EhJAAIeQI+qGG+dtCLyZv9eWqgduYgBASIIQECCE74I6dPXv2/sd2vjua7tEn9nbZJiCEBAghR9APNcz/Dlu+ezd57OYrCiZO+M/FBISQACEkQAjZAbcx3e2WG96DD25hAkJIgBByBL0L1wnsiQkIIQFCSIAQsgPe5IRfoc/DMQEhJEAIOYL+x1UDARMQQgKEkAAhdNo7oKsGYiYghAQIodM+gjp2EjMBISRACAkQQgKEkAAhJEAICRBCAoSQACEkQAgJEEIChJAAISRACAkQQgKEkAAhJEAICRBCAoSQACEkQAgJEEIChJAAISRACAkQQgKEkAAhJEAICRBCAoSQACEkQAgJEEIChJAAISRACAkQQgKEkAAhJEAICRBCAoSQACEkQAgJEEIChJAAISRACAkQQgKEkAAhJEAICRBCAoSQACEkQAgJEEIChJAAISRACP0L73uVvD6utKsAAAAASUVORK5CYII=\" y=\"-23.4\"/>\n",
       "   </g>\n",
       "   <g id=\"matplotlib.axis_1\">\n",
       "    <g id=\"xtick_1\">\n",
       "     <g id=\"line2d_1\">\n",
       "      <defs>\n",
       "       <path d=\"M 0 0 \n",
       "L 0 3.5 \n",
       "\" id=\"m4658658dbe\" style=\"stroke:#000000;stroke-width:0.8;\"/>\n",
       "      </defs>\n",
       "      <g>\n",
       "       <use style=\"stroke:#000000;stroke-width:0.8;\" x=\"26.959375\" xlink:href=\"#m4658658dbe\" y=\"247.4\"/>\n",
       "      </g>\n",
       "     </g>\n",
       "     <g id=\"line2d_2\">\n",
       "      <defs>\n",
       "       <path d=\"M 0 0 \n",
       "L 0 -3.5 \n",
       "\" id=\"m7e4826264c\" style=\"stroke:#000000;stroke-width:0.8;\"/>\n",
       "      </defs>\n",
       "      <g>\n",
       "       <use style=\"stroke:#000000;stroke-width:0.8;\" x=\"26.959375\" xlink:href=\"#m7e4826264c\" y=\"24.2\"/>\n",
       "      </g>\n",
       "     </g>\n",
       "     <g id=\"text_1\">\n",
       "      <!-- 0 -->\n",
       "      <defs>\n",
       "       <path d=\"M 4.6875 35.9375 \n",
       "Q 4.6875 54.296875 10.34375 63.46875 \n",
       "Q 16.015625 72.65625 27.34375 72.65625 \n",
       "Q 39.0625 72.65625 44.71875 63.46875 \n",
       "Q 50.390625 54.296875 50.390625 35.9375 \n",
       "Q 50.390625 17.578125 44.71875 8.390625 \n",
       "Q 39.0625 -0.78125 27.34375 -0.78125 \n",
       "Q 16.015625 -0.78125 10.34375 8.390625 \n",
       "Q 4.6875 17.578125 4.6875 35.9375 \n",
       "z\n",
       "M 41.40625 35.9375 \n",
       "Q 41.40625 52.34375 37.6875 58.59375 \n",
       "Q 33.984375 64.84375 27.34375 64.84375 \n",
       "Q 21.09375 64.84375 17.375 58.78125 \n",
       "Q 13.671875 52.734375 13.671875 35.9375 \n",
       "Q 13.671875 18.75 17.375 12.6875 \n",
       "Q 21.09375 6.640625 27.34375 6.640625 \n",
       "Q 33.984375 6.640625 37.6875 12.890625 \n",
       "Q 41.40625 19.140625 41.40625 35.9375 \n",
       "z\n",
       "\" id=\"DroidSansFallback-30\"/>\n",
       "      </defs>\n",
       "      <g transform=\"translate(24.205469 14.817188)scale(0.1 -0.1)\">\n",
       "       <use xlink:href=\"#DroidSansFallback-30\"/>\n",
       "      </g>\n",
       "     </g>\n",
       "    </g>\n",
       "    <g id=\"xtick_2\">\n",
       "     <g id=\"line2d_3\">\n",
       "      <g>\n",
       "       <use style=\"stroke:#000000;stroke-width:0.8;\" x=\"61.834375\" xlink:href=\"#m4658658dbe\" y=\"247.4\"/>\n",
       "      </g>\n",
       "     </g>\n",
       "     <g id=\"line2d_4\">\n",
       "      <g>\n",
       "       <use style=\"stroke:#000000;stroke-width:0.8;\" x=\"61.834375\" xlink:href=\"#m7e4826264c\" y=\"24.2\"/>\n",
       "      </g>\n",
       "     </g>\n",
       "     <g id=\"text_2\">\n",
       "      <!-- 10 -->\n",
       "      <defs>\n",
       "       <path d=\"M 34.765625 0 \n",
       "L 26.171875 0 \n",
       "L 26.171875 44.53125 \n",
       "Q 26.171875 53.90625 26.5625 62.109375 \n",
       "L 13.28125 50.78125 \n",
       "L 8.59375 56.640625 \n",
       "L 27.34375 71.484375 \n",
       "L 34.765625 71.484375 \n",
       "z\n",
       "\" id=\"DroidSansFallback-31\"/>\n",
       "      </defs>\n",
       "      <g transform=\"translate(56.326563 14.817188)scale(0.1 -0.1)\">\n",
       "       <use xlink:href=\"#DroidSansFallback-31\"/>\n",
       "       <use x=\"55.078125\" xlink:href=\"#DroidSansFallback-30\"/>\n",
       "      </g>\n",
       "     </g>\n",
       "    </g>\n",
       "    <g id=\"xtick_3\">\n",
       "     <g id=\"line2d_5\">\n",
       "      <g>\n",
       "       <use style=\"stroke:#000000;stroke-width:0.8;\" x=\"96.709375\" xlink:href=\"#m4658658dbe\" y=\"247.4\"/>\n",
       "      </g>\n",
       "     </g>\n",
       "     <g id=\"line2d_6\">\n",
       "      <g>\n",
       "       <use style=\"stroke:#000000;stroke-width:0.8;\" x=\"96.709375\" xlink:href=\"#m7e4826264c\" y=\"24.2\"/>\n",
       "      </g>\n",
       "     </g>\n",
       "     <g id=\"text_3\">\n",
       "      <!-- 20 -->\n",
       "      <defs>\n",
       "       <path d=\"M 49.21875 0 \n",
       "L 4.6875 0 \n",
       "L 4.6875 7.8125 \n",
       "L 21.875 26.171875 \n",
       "Q 32.421875 37.5 34.953125 42.578125 \n",
       "Q 37.5 47.65625 37.5 53.125 \n",
       "Q 37.5 58.59375 34.375 61.71875 \n",
       "Q 31.25 64.84375 25.78125 64.84375 \n",
       "Q 17.96875 64.84375 10.546875 58.203125 \n",
       "L 5.46875 64.0625 \n",
       "Q 14.84375 72.265625 26.171875 72.265625 \n",
       "Q 35.546875 72.265625 41.015625 67.1875 \n",
       "Q 46.484375 62.109375 46.484375 53.515625 \n",
       "Q 46.484375 47.265625 43.15625 41.015625 \n",
       "Q 39.84375 34.765625 29.296875 23.046875 \n",
       "L 15.625 8.59375 \n",
       "L 15.625 8.203125 \n",
       "L 49.21875 8.203125 \n",
       "z\n",
       "\" id=\"DroidSansFallback-32\"/>\n",
       "      </defs>\n",
       "      <g transform=\"translate(91.201563 14.817188)scale(0.1 -0.1)\">\n",
       "       <use xlink:href=\"#DroidSansFallback-32\"/>\n",
       "       <use x=\"55.078125\" xlink:href=\"#DroidSansFallback-30\"/>\n",
       "      </g>\n",
       "     </g>\n",
       "    </g>\n",
       "    <g id=\"xtick_4\">\n",
       "     <g id=\"line2d_7\">\n",
       "      <g>\n",
       "       <use style=\"stroke:#000000;stroke-width:0.8;\" x=\"131.584375\" xlink:href=\"#m4658658dbe\" y=\"247.4\"/>\n",
       "      </g>\n",
       "     </g>\n",
       "     <g id=\"line2d_8\">\n",
       "      <g>\n",
       "       <use style=\"stroke:#000000;stroke-width:0.8;\" x=\"131.584375\" xlink:href=\"#m7e4826264c\" y=\"24.2\"/>\n",
       "      </g>\n",
       "     </g>\n",
       "     <g id=\"text_4\">\n",
       "      <!-- 30 -->\n",
       "      <defs>\n",
       "       <path d=\"M 31.640625 37.5 \n",
       "Q 49.21875 35.15625 49.21875 20.3125 \n",
       "Q 49.21875 10.546875 42.578125 4.875 \n",
       "Q 35.9375 -0.78125 23.046875 -0.78125 \n",
       "Q 10.9375 -0.78125 3.90625 2.734375 \n",
       "L 3.90625 11.328125 \n",
       "Q 12.890625 6.640625 22.65625 6.640625 \n",
       "Q 31.25 6.640625 35.546875 10.15625 \n",
       "Q 39.84375 13.671875 39.84375 20.703125 \n",
       "Q 39.84375 26.953125 35.34375 30.078125 \n",
       "Q 30.859375 33.203125 21.484375 33.203125 \n",
       "L 14.84375 33.203125 \n",
       "L 14.84375 40.625 \n",
       "L 21.484375 40.625 \n",
       "Q 29.296875 40.625 33.59375 44.328125 \n",
       "Q 37.890625 48.046875 37.890625 54.296875 \n",
       "Q 37.890625 58.984375 34.5625 61.90625 \n",
       "Q 31.25 64.84375 25.78125 64.84375 \n",
       "Q 16.796875 64.84375 8.984375 58.984375 \n",
       "L 4.296875 65.234375 \n",
       "Q 13.28125 72.265625 25.78125 72.265625 \n",
       "Q 35.9375 72.265625 41.40625 67.375 \n",
       "Q 46.875 62.5 46.875 54.6875 \n",
       "Q 46.875 40.625 31.640625 37.5 \n",
       "z\n",
       "\" id=\"DroidSansFallback-33\"/>\n",
       "      </defs>\n",
       "      <g transform=\"translate(126.076563 14.817188)scale(0.1 -0.1)\">\n",
       "       <use xlink:href=\"#DroidSansFallback-33\"/>\n",
       "       <use x=\"55.078125\" xlink:href=\"#DroidSansFallback-30\"/>\n",
       "      </g>\n",
       "     </g>\n",
       "    </g>\n",
       "    <g id=\"xtick_5\">\n",
       "     <g id=\"line2d_9\">\n",
       "      <g>\n",
       "       <use style=\"stroke:#000000;stroke-width:0.8;\" x=\"166.459375\" xlink:href=\"#m4658658dbe\" y=\"247.4\"/>\n",
       "      </g>\n",
       "     </g>\n",
       "     <g id=\"line2d_10\">\n",
       "      <g>\n",
       "       <use style=\"stroke:#000000;stroke-width:0.8;\" x=\"166.459375\" xlink:href=\"#m7e4826264c\" y=\"24.2\"/>\n",
       "      </g>\n",
       "     </g>\n",
       "     <g id=\"text_5\">\n",
       "      <!-- 40 -->\n",
       "      <defs>\n",
       "       <path d=\"M 53.125 16.015625 \n",
       "L 42.578125 16.015625 \n",
       "L 42.578125 0 \n",
       "L 33.984375 0 \n",
       "L 33.984375 16.015625 \n",
       "L 1.171875 16.015625 \n",
       "L 1.171875 23.828125 \n",
       "L 33.59375 71.875 \n",
       "L 42.578125 71.875 \n",
       "L 42.578125 24.21875 \n",
       "L 53.125 24.21875 \n",
       "z\n",
       "M 33.984375 24.21875 \n",
       "L 33.984375 41.40625 \n",
       "Q 33.984375 50 34.765625 62.5 \n",
       "L 34.375 62.5 \n",
       "Q 32.421875 57.421875 30.078125 53.90625 \n",
       "L 9.765625 24.21875 \n",
       "z\n",
       "\" id=\"DroidSansFallback-34\"/>\n",
       "      </defs>\n",
       "      <g transform=\"translate(160.951563 14.817188)scale(0.1 -0.1)\">\n",
       "       <use xlink:href=\"#DroidSansFallback-34\"/>\n",
       "       <use x=\"55.078125\" xlink:href=\"#DroidSansFallback-30\"/>\n",
       "      </g>\n",
       "     </g>\n",
       "    </g>\n",
       "    <g id=\"xtick_6\">\n",
       "     <g id=\"line2d_11\">\n",
       "      <g>\n",
       "       <use style=\"stroke:#000000;stroke-width:0.8;\" x=\"201.334375\" xlink:href=\"#m4658658dbe\" y=\"247.4\"/>\n",
       "      </g>\n",
       "     </g>\n",
       "     <g id=\"line2d_12\">\n",
       "      <g>\n",
       "       <use style=\"stroke:#000000;stroke-width:0.8;\" x=\"201.334375\" xlink:href=\"#m7e4826264c\" y=\"24.2\"/>\n",
       "      </g>\n",
       "     </g>\n",
       "     <g id=\"text_6\">\n",
       "      <!-- 50 -->\n",
       "      <defs>\n",
       "       <path d=\"M 6.25 2.734375 \n",
       "L 6.25 11.328125 \n",
       "Q 13.28125 6.640625 24.21875 6.640625 \n",
       "Q 32.03125 6.640625 36.125 10.546875 \n",
       "Q 40.234375 14.453125 40.234375 21.875 \n",
       "Q 40.234375 29.296875 36.125 32.8125 \n",
       "Q 32.03125 36.328125 23.4375 36.328125 \n",
       "Q 19.140625 36.328125 12.5 35.15625 \n",
       "L 7.8125 37.890625 \n",
       "L 10.546875 71.484375 \n",
       "L 44.140625 71.484375 \n",
       "L 44.140625 63.28125 \n",
       "L 18.359375 63.28125 \n",
       "L 16.40625 42.96875 \n",
       "Q 21.484375 43.75 26.5625 43.75 \n",
       "Q 37.109375 43.75 43.359375 38.078125 \n",
       "Q 49.609375 32.421875 49.609375 23.046875 \n",
       "Q 49.609375 11.71875 42.96875 5.46875 \n",
       "Q 36.328125 -0.78125 23.828125 -0.78125 \n",
       "Q 12.890625 -0.78125 6.25 2.734375 \n",
       "z\n",
       "\" id=\"DroidSansFallback-35\"/>\n",
       "      </defs>\n",
       "      <g transform=\"translate(195.826563 14.817188)scale(0.1 -0.1)\">\n",
       "       <use xlink:href=\"#DroidSansFallback-35\"/>\n",
       "       <use x=\"55.078125\" xlink:href=\"#DroidSansFallback-30\"/>\n",
       "      </g>\n",
       "     </g>\n",
       "    </g>\n",
       "    <g id=\"xtick_7\">\n",
       "     <g id=\"line2d_13\">\n",
       "      <g>\n",
       "       <use style=\"stroke:#000000;stroke-width:0.8;\" x=\"236.209375\" xlink:href=\"#m4658658dbe\" y=\"247.4\"/>\n",
       "      </g>\n",
       "     </g>\n",
       "     <g id=\"line2d_14\">\n",
       "      <g>\n",
       "       <use style=\"stroke:#000000;stroke-width:0.8;\" x=\"236.209375\" xlink:href=\"#m7e4826264c\" y=\"24.2\"/>\n",
       "      </g>\n",
       "     </g>\n",
       "     <g id=\"text_7\">\n",
       "      <!-- 60 -->\n",
       "      <defs>\n",
       "       <path d=\"M 45.3125 71.484375 \n",
       "L 45.3125 64.0625 \n",
       "Q 41.796875 65.234375 37.109375 65.234375 \n",
       "Q 15.234375 65.234375 14.453125 36.328125 \n",
       "L 15.234375 36.328125 \n",
       "Q 19.921875 44.53125 30.078125 44.53125 \n",
       "Q 39.453125 44.53125 44.921875 38.859375 \n",
       "Q 50.390625 33.203125 50.390625 23.046875 \n",
       "Q 50.390625 11.71875 44.53125 5.46875 \n",
       "Q 38.671875 -0.78125 28.90625 -0.78125 \n",
       "Q 18.359375 -0.78125 11.90625 7.21875 \n",
       "Q 5.46875 15.234375 5.46875 30.46875 \n",
       "Q 5.46875 51.5625 13.28125 61.90625 \n",
       "Q 21.09375 72.265625 36.71875 72.265625 \n",
       "Q 41.796875 72.265625 45.3125 71.484375 \n",
       "z\n",
       "M 28.90625 37.890625 \n",
       "Q 22.65625 37.890625 18.546875 33.78125 \n",
       "Q 14.453125 29.6875 14.453125 24.609375 \n",
       "Q 14.453125 16.796875 18.546875 11.71875 \n",
       "Q 22.65625 6.640625 28.90625 6.640625 \n",
       "Q 35.15625 6.640625 38.46875 10.734375 \n",
       "Q 41.796875 14.84375 41.796875 23.046875 \n",
       "Q 41.796875 30.46875 38.671875 34.171875 \n",
       "Q 35.546875 37.890625 28.90625 37.890625 \n",
       "z\n",
       "\" id=\"DroidSansFallback-36\"/>\n",
       "      </defs>\n",
       "      <g transform=\"translate(230.701563 14.817188)scale(0.1 -0.1)\">\n",
       "       <use xlink:href=\"#DroidSansFallback-36\"/>\n",
       "       <use x=\"55.078125\" xlink:href=\"#DroidSansFallback-30\"/>\n",
       "      </g>\n",
       "     </g>\n",
       "    </g>\n",
       "   </g>\n",
       "   <g id=\"matplotlib.axis_2\">\n",
       "    <g id=\"ytick_1\">\n",
       "     <g id=\"line2d_15\">\n",
       "      <defs>\n",
       "       <path d=\"M 0 0 \n",
       "L -3.5 0 \n",
       "\" id=\"m24fa84cff9\" style=\"stroke:#000000;stroke-width:0.8;\"/>\n",
       "      </defs>\n",
       "      <g>\n",
       "       <use style=\"stroke:#000000;stroke-width:0.8;\" x=\"25.215625\" xlink:href=\"#m24fa84cff9\" y=\"25.94375\"/>\n",
       "      </g>\n",
       "     </g>\n",
       "     <g id=\"text_8\">\n",
       "      <!-- 0 -->\n",
       "      <g transform=\"translate(12.707813 29.752344)scale(0.1 -0.1)\">\n",
       "       <use xlink:href=\"#DroidSansFallback-30\"/>\n",
       "      </g>\n",
       "     </g>\n",
       "    </g>\n",
       "    <g id=\"ytick_2\">\n",
       "     <g id=\"line2d_16\">\n",
       "      <g>\n",
       "       <use style=\"stroke:#000000;stroke-width:0.8;\" x=\"25.215625\" xlink:href=\"#m24fa84cff9\" y=\"60.81875\"/>\n",
       "      </g>\n",
       "     </g>\n",
       "     <g id=\"text_9\">\n",
       "      <!-- 10 -->\n",
       "      <g transform=\"translate(7.2 64.627344)scale(0.1 -0.1)\">\n",
       "       <use xlink:href=\"#DroidSansFallback-31\"/>\n",
       "       <use x=\"55.078125\" xlink:href=\"#DroidSansFallback-30\"/>\n",
       "      </g>\n",
       "     </g>\n",
       "    </g>\n",
       "    <g id=\"ytick_3\">\n",
       "     <g id=\"line2d_17\">\n",
       "      <g>\n",
       "       <use style=\"stroke:#000000;stroke-width:0.8;\" x=\"25.215625\" xlink:href=\"#m24fa84cff9\" y=\"95.69375\"/>\n",
       "      </g>\n",
       "     </g>\n",
       "     <g id=\"text_10\">\n",
       "      <!-- 20 -->\n",
       "      <g transform=\"translate(7.2 99.502344)scale(0.1 -0.1)\">\n",
       "       <use xlink:href=\"#DroidSansFallback-32\"/>\n",
       "       <use x=\"55.078125\" xlink:href=\"#DroidSansFallback-30\"/>\n",
       "      </g>\n",
       "     </g>\n",
       "    </g>\n",
       "    <g id=\"ytick_4\">\n",
       "     <g id=\"line2d_18\">\n",
       "      <g>\n",
       "       <use style=\"stroke:#000000;stroke-width:0.8;\" x=\"25.215625\" xlink:href=\"#m24fa84cff9\" y=\"130.56875\"/>\n",
       "      </g>\n",
       "     </g>\n",
       "     <g id=\"text_11\">\n",
       "      <!-- 30 -->\n",
       "      <g transform=\"translate(7.2 134.377344)scale(0.1 -0.1)\">\n",
       "       <use xlink:href=\"#DroidSansFallback-33\"/>\n",
       "       <use x=\"55.078125\" xlink:href=\"#DroidSansFallback-30\"/>\n",
       "      </g>\n",
       "     </g>\n",
       "    </g>\n",
       "    <g id=\"ytick_5\">\n",
       "     <g id=\"line2d_19\">\n",
       "      <g>\n",
       "       <use style=\"stroke:#000000;stroke-width:0.8;\" x=\"25.215625\" xlink:href=\"#m24fa84cff9\" y=\"165.44375\"/>\n",
       "      </g>\n",
       "     </g>\n",
       "     <g id=\"text_12\">\n",
       "      <!-- 40 -->\n",
       "      <g transform=\"translate(7.2 169.252344)scale(0.1 -0.1)\">\n",
       "       <use xlink:href=\"#DroidSansFallback-34\"/>\n",
       "       <use x=\"55.078125\" xlink:href=\"#DroidSansFallback-30\"/>\n",
       "      </g>\n",
       "     </g>\n",
       "    </g>\n",
       "    <g id=\"ytick_6\">\n",
       "     <g id=\"line2d_20\">\n",
       "      <g>\n",
       "       <use style=\"stroke:#000000;stroke-width:0.8;\" x=\"25.215625\" xlink:href=\"#m24fa84cff9\" y=\"200.31875\"/>\n",
       "      </g>\n",
       "     </g>\n",
       "     <g id=\"text_13\">\n",
       "      <!-- 50 -->\n",
       "      <g transform=\"translate(7.2 204.127344)scale(0.1 -0.1)\">\n",
       "       <use xlink:href=\"#DroidSansFallback-35\"/>\n",
       "       <use x=\"55.078125\" xlink:href=\"#DroidSansFallback-30\"/>\n",
       "      </g>\n",
       "     </g>\n",
       "    </g>\n",
       "    <g id=\"ytick_7\">\n",
       "     <g id=\"line2d_21\">\n",
       "      <g>\n",
       "       <use style=\"stroke:#000000;stroke-width:0.8;\" x=\"25.215625\" xlink:href=\"#m24fa84cff9\" y=\"235.19375\"/>\n",
       "      </g>\n",
       "     </g>\n",
       "     <g id=\"text_14\">\n",
       "      <!-- 60 -->\n",
       "      <g transform=\"translate(7.2 239.002344)scale(0.1 -0.1)\">\n",
       "       <use xlink:href=\"#DroidSansFallback-36\"/>\n",
       "       <use x=\"55.078125\" xlink:href=\"#DroidSansFallback-30\"/>\n",
       "      </g>\n",
       "     </g>\n",
       "    </g>\n",
       "   </g>\n",
       "   <g id=\"patch_3\">\n",
       "    <path d=\"M 25.215625 247.4 \n",
       "L 25.215625 24.2 \n",
       "\" style=\"fill:none;stroke:#000000;stroke-linecap:square;stroke-linejoin:miter;stroke-width:0.8;\"/>\n",
       "   </g>\n",
       "   <g id=\"patch_4\">\n",
       "    <path d=\"M 248.415625 247.4 \n",
       "L 248.415625 24.2 \n",
       "\" style=\"fill:none;stroke:#000000;stroke-linecap:square;stroke-linejoin:miter;stroke-width:0.8;\"/>\n",
       "   </g>\n",
       "   <g id=\"patch_5\">\n",
       "    <path d=\"M 25.215625 247.4 \n",
       "L 248.415625 247.4 \n",
       "\" style=\"fill:none;stroke:#000000;stroke-linecap:square;stroke-linejoin:miter;stroke-width:0.8;\"/>\n",
       "   </g>\n",
       "   <g id=\"patch_6\">\n",
       "    <path d=\"M 25.215625 24.2 \n",
       "L 248.415625 24.2 \n",
       "\" style=\"fill:none;stroke:#000000;stroke-linecap:square;stroke-linejoin:miter;stroke-width:0.8;\"/>\n",
       "   </g>\n",
       "  </g>\n",
       " </g>\n",
       " <defs>\n",
       "  <clipPath id=\"p7f672631f0\">\n",
       "   <rect height=\"223.2\" width=\"223.2\" x=\"25.215625\" y=\"24.2\"/>\n",
       "  </clipPath>\n",
       " </defs>\n",
       "</svg>\n"
      ],
      "text/plain": [
       "<matplotlib.figure.Figure at 0x7f647edf0780>"
      ]
     },
     "metadata": {},
     "output_type": "display_data"
    }
   ],
   "source": [
    "w, v = eigh(h)\n",
    "rho = v.T.conj()@r@v\n",
    "matshow(np.abs(rho));"
   ]
  },
  {
   "cell_type": "code",
   "execution_count": 12,
   "metadata": {},
   "outputs": [],
   "source": [
    "h=arange(0,4).reshape(2,2)\n",
    "r=arange(3,7).reshape(2,2)\n",
    "h+=h.T\n",
    "r+=r.T"
   ]
  },
  {
   "cell_type": "code",
   "execution_count": 16,
   "metadata": {},
   "outputs": [],
   "source": [
    "m=diag([2,3])"
   ]
  },
  {
   "cell_type": "code",
   "execution_count": 17,
   "metadata": {},
   "outputs": [
    {
     "data": {
      "text/plain": [
       "-54"
      ]
     },
     "execution_count": 17,
     "metadata": {},
     "output_type": "execute_result"
    }
   ],
   "source": [
    "bs.trace2(bs.commuteh(m,h), bs.commuteh(m,r))"
   ]
  },
  {
   "cell_type": "code",
   "execution_count": 15,
   "metadata": {
    "scrolled": false
   },
   "outputs": [
    {
     "name": "stderr",
     "output_type": "stream",
     "text": [
      "/home/zpj/research/ETH/optimization.py:59: RuntimeWarning: invalid value encountered in true_divide\n",
      "  step = - bitsign(nabla)/np.clip(w/np.abs(nabla), istep, None)\n"
     ]
    },
    {
     "name": "stdout",
     "output_type": "stream",
     "text": [
      "Stop at 301 with f=-10516.09240289205, f1=25276.823064635326, convex=False\n"
     ]
    },
    {
     "data": {
      "text/plain": [
       "array([[ 9.72904617+0.j,  9.45877855+0.j],\n",
       "       [ 9.45877855+0.j,  8.27095383+0.j]])"
      ]
     },
     "execution_count": 15,
     "metadata": {},
     "output_type": "execute_result"
    }
   ],
   "source": [
    "opt.minimize_var(h, r, nit=3000)"
   ]
  },
  {
   "cell_type": "code",
   "execution_count": 5,
   "metadata": {},
   "outputs": [
    {
     "name": "stdout",
     "output_type": "stream",
     "text": [
      "/home/zpj/research/DMRG-prog\n"
     ]
    }
   ],
   "source": [
    "cd DMRG-prog/"
   ]
  },
  {
   "cell_type": "code",
   "execution_count": 10,
   "metadata": {},
   "outputs": [],
   "source": [
    "rho1=load('rho1.npy')"
   ]
  },
  {
   "cell_type": "code",
   "execution_count": 11,
   "metadata": {},
   "outputs": [],
   "source": [
    "rho2=load('rho2.npy')"
   ]
  },
  {
   "cell_type": "code",
   "execution_count": 14,
   "metadata": {},
   "outputs": [],
   "source": [
    "import scipy.linalg as la"
   ]
  },
  {
   "cell_type": "code",
   "execution_count": 19,
   "metadata": {},
   "outputs": [
    {
     "data": {
      "text/plain": [
       "0.16640084114050102"
      ]
     },
     "execution_count": 19,
     "metadata": {},
     "output_type": "execute_result"
    }
   ],
   "source": [
    "la.norm(rho1-rho2)"
   ]
  },
  {
   "cell_type": "code",
   "execution_count": 17,
   "metadata": {},
   "outputs": [
    {
     "data": {
      "text/plain": [
       "0.543405251430257"
      ]
     },
     "execution_count": 17,
     "metadata": {},
     "output_type": "execute_result"
    }
   ],
   "source": [
    "la.norm(rho2)"
   ]
  },
  {
   "cell_type": "code",
   "execution_count": null,
   "metadata": {},
   "outputs": [],
   "source": []
  }
 ],
 "metadata": {
  "kernelspec": {
   "display_name": "Python 3.6",
   "language": "python",
   "name": "python_3.6"
  },
  "language_info": {
   "codemirror_mode": {
    "name": "ipython",
    "version": 3
   },
   "file_extension": ".py",
   "mimetype": "text/x-python",
   "name": "python",
   "nbconvert_exporter": "python",
   "pygments_lexer": "ipython3",
   "version": "3.6.4"
  }
 },
 "nbformat": 4,
 "nbformat_minor": 2
}
