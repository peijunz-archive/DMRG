{
 "cells": [
  {
   "cell_type": "markdown",
   "metadata": {},
   "source": [
    "<span class=\"mathmacros\" style=\"display:none;\">\n",
    "$\\def\\bra#1{\\mathinner{\\langle{#1}|}}\n",
    "\\def\\ket#1{\\mathinner{|{#1}\\rangle}}\n",
    "\\def\\braket#1{\\mathinner{\\langle{#1}\\rangle}}\n",
    "\\newcommand{\\mdef}{\\overset{\\mathrm{def}}{=}}\n",
    "\\newcommand{\\bm}{\\mathbf}\n",
    "\\newcommand{\\inv}[1]{#1^{-1}}   % Inverse Matrix\n",
    "\\newcommand{\\invt}[1]{#1^{-T}}  % Inverse Transposed Matrix\n",
    "\\renewcommand{\\nl}{\\\\&\\phantom{{}={}}}% Newline In aligned equations\n",
    "\\newcommand{\\pfr}[2]{\\frac{\\pp #1}{\\pp #2}}      % Partial derivative\n",
    "\\newcommand{\\dfr}[2]{\\frac{\\dd #1}{\\dd #2}}      % Total derivative\n",
    "\\newcommand{\\pp}{\\partial}\n",
    "\\DeclareMathOperator{\\Var}{Var}\n",
    "\\DeclareMathOperator{\\det}{det}\n",
    "\\DeclareMathOperator{\\tr}{tr}\n",
    "\\DeclareMathOperator{\\sgn}{sgn}\n",
    "\\DeclareMathOperator{\\adj}{adj}\n",
    "\\DeclareMathOperator{\\ii}{i}\n",
    "\\DeclareMathOperator{\\dd}{d}\n",
    "\\DeclareMathOperator{\\rhs}{RHS}\n",
    "\\DeclareMathOperator{\\lhs}{LHS}\n",
    "\\newcommand{\\nl}{\\\\&\\phantom{={}}}\n",
    "\\DeclareMathOperator{\\E}{E}\n",
    "\\DeclareMathOperator{\\Cov}{Cov}\n",
    "\\DeclareMathOperator{\\Beta}{B}\n",
    "\\DeclareMathOperator{\\Bdist}{Beta}$\n",
    "</span>"
   ]
  },
  {
   "cell_type": "markdown",
   "metadata": {},
   "source": [
    "+ If we are looking for steady state, a pure state must be an eigenstate.\n",
    "    + For ETH, this pure state have vol law entanglement.\n",
    "    + For mixed state, steady state may have area law (e.g. Gibbs ensemble) even in the ETH\n",
    "\n",
    "\n",
    "## TODO\n",
    "### Low level\n",
    "+ Do ED, explicity a diagonal matrix with various $N$ and classical $S$, turn them into MPOs, and check bond dimension.\n",
    "+ Does the optimized $\\rho$ always mean steady state?\n",
    "    + For $\\rho(\\delta)=e^{i\\delta}\\rho_0 e^{-i\\delta}$\n",
    "$$\\nabla_\\delta\\Var[H]=i[\\rho_0, H^2-2\\langle H\\rangle H], \\quad \\langle H\\rangle=\\mathrm{tr}[H\\rho_0]$$\n",
    "\n",
    "### High level\n",
    "+ Cleaner way to tell difference between ETH/MBL\n",
    "    + Where is the direction? Could you explain?\n",
    "+ Entanglement threshold (for density matrices) using finite depth circuit to generate a steady state.\n",
    "    + What does entanglement threshold here mean?\n",
    "    + For MPO, try two layers local optimization on about 8 sites first.\n",
    "\n",
    "### Others\n",
    "+ Try to minimize $\\tr[(H-E_0)^2\\rho]$\n",
    "    + The optimization code for this routine is handy\n",
    "    + Zero energy?"
   ]
  },
  {
   "cell_type": "markdown",
   "metadata": {},
   "source": [
    "why is this useful for distinguishing MBL and thermalizing phases: fix E and the starting total entropy of the initial density matrices rho_0. For example, we could pick $\\rho_0 = \\prod_i (\\alpha_i |up> + \\sqrt{1-\\alpha_i^2} |down>$ ) with alpha_i close to 0 or 1 on each site. In the ETH phase, the optimized density matrices must reproduce the same expectation value for local observables. In the MBL phase, we would hope to see a broader distribution of values for local observables determined by the z-product state with maximum weight in rho_0. The other thing we could do is monitor the depth of the circuit required for variance minimization as a function of the starting entropy. We expect that the smaller the starting entropy density, the larger the depth of the circuit. How should the depth scale with N for fixed entropy?"
   ]
  },
  {
   "cell_type": "markdown",
   "metadata": {},
   "source": [
    "### Jan 24\n",
    "+ Split chain into three parts and use different initial $\\rho$, to change eigenvalues. The depth should be at least prop to length of chain.\n",
    "+ Do the optimization code for $f=A_{\\alpha\\beta\\gamma\\delta}V_{\\alpha\\beta}V^+_{\\gamma\\delta}$\n",
    "+ Do contraction of $f$ in the exact way\n",
    "+ "
   ]
  },
  {
   "cell_type": "code",
   "execution_count": null,
   "metadata": {},
   "outputs": [],
   "source": []
  }
 ],
 "metadata": {
  "kernelspec": {
   "display_name": "Python 3.6",
   "language": "python",
   "name": "python_3.6"
  },
  "language_info": {
   "codemirror_mode": {
    "name": "ipython",
    "version": 3
   },
   "file_extension": ".py",
   "mimetype": "text/x-python",
   "name": "python",
   "nbconvert_exporter": "python",
   "pygments_lexer": "ipython3",
   "version": "3.6.4"
  }
 },
 "nbformat": 4,
 "nbformat_minor": 2
}
