{
 "cells": [
  {
   "cell_type": "markdown",
   "metadata": {},
   "source": [
    "# DMRG Notes\n",
    "+ date: 2017-05-26\n",
    "+ tags: DMRG\n",
    "+ summary: The density matrix renormalization group (DMRG) is a numerical variational technique devised to obtain the low energy physics of quantum many-body systems with high accuracy. It was invented in 1992 by Steven R. White and it is nowadays the most efficient method for 1-dimensional systems."
   ]
  },
  {
   "cell_type": "markdown",
   "metadata": {},
   "source": [
    "<span class=\"mathmacros\" style=\"display:none;\">\n",
    "$\\def\\bra#1{\\mathinner{\\langle{#1}|}}\n",
    "\\def\\ket#1{\\mathinner{|{#1}\\rangle}}\n",
    "\\def\\braket#1{\\mathinner{\\langle{#1}\\rangle}}\n",
    "\\newcommand{\\mdef}{\\overset{\\mathrm{def}}{=}}\n",
    "\\newcommand{\\bm}{\\mathbf}\n",
    "\\newcommand{\\pfr}[2]{\\frac{\\pp #1}{\\pp #2}}      % Partial derivative\n",
    "\\newcommand{\\pfr}[2]{\\frac{\\pp #1}{\\pp #2}}      % Partial derivative\n",
    "\\newcommand{\\inv}[1]{#1^{-1}}   % Inverse Matrix\n",
    "\\newcommand{\\invt}[1]{#1^{-T}}  % Inverse Transposed Matrix\n",
    "\\renewcommand{\\nl}{\\\\&\\phantom{{}={}}}% Newline In aligned equations\n",
    "\\newcommand{\\dfr}[2]{\\frac{\\dd #1}{\\dd #2}}      % Total derivative\n",
    "\\DeclareMathOperator{\\Var}{Var}\n",
    "\\DeclareMathOperator{\\det}{det}\n",
    "\\DeclareMathOperator{\\tr}{tr}\n",
    "\\DeclareMathOperator{\\E}{E}\n",
    "\\DeclareMathOperator{\\Cov}{Cov}\n",
    "\\DeclareMathOperator{\\Beta}{B}\n",
    "\\DeclareMathOperator{\\Bdist}{Beta}\n",
    "\\DeclareMathOperator{\\sgn}{sgn}\n",
    "\\DeclareMathOperator{\\adj}{adj}\n",
    "\\DeclareMathOperator{\\ii}{i}\n",
    "\\DeclareMathOperator{\\dd}{d}\n",
    "\\newcommand{\\pp}{\\partial}\n",
    "\\DeclareMathOperator{\\rhs}{RHS}\n",
    "\\DeclareMathOperator{\\lhs}{LHS}$\n",
    "</span>"
   ]
  },
  {
   "cell_type": "markdown",
   "metadata": {},
   "source": [
    "## Basics\n",
    "+ For site $n$, there is $d$ matrices with dimension $\\chi_{n-1}\\times\\chi_n$. i.e. Tensor with dimension $(d, \\chi_{n-1}, \\chi_n)$ \n",
    "+ For increase of one site, the number of parameters increase by $\\chi^2d$\n",
    "+ __Canonical form__: How to decompose $A\\rightarrow \\Gamma\\Lambda$? Bipartition by schmidt partition, and it will give $\\Lambda$\n",
    "+ **SVD**: For a matrix $M$, find a decomposition $M=\\sum_{i=1}^rc_i\\ket{\\psi_i}\\bra{\\phi_i}$, where $\\psi_i, \\phi_i$ are orthonormal, respectively.\n",
    "+ Suppose we have wave function $\\Psi=\\sum_{i=1}^{s} c_i\\ket{\\psi_i}\\bra{\\phi_i}$, which are unnecessarily orthonormal, the corresponding matrix has rank $r\\leq s$."
   ]
  },
  {
   "cell_type": "markdown",
   "metadata": {
    "collapsed": true
   },
   "source": [
    "## MPS\n",
    "+ At each point, we can decompose a state into left/right part, such that it forms $\\Gamma\\Lambda\\cdots\\Gamma$\n",
    "+ Infinite chain has translational invariance, to confirm the orthogonality:\n",
    "    + We can use the transfer matrix $T$ to take advantage of invariance\n",
    "    + The result will be $\\propto$ infinite matrix power $T^n$ thus the dominant eigenvalue must be 1\n",
    "    + For more complex case, we can generalize the $T$ matrix by a multiple contraction\n",
    "    + Local operator will affect only one site, so it is plugged in the contraction between legs of $\\Gamma$"
   ]
  },
  {
   "cell_type": "markdown",
   "metadata": {},
   "source": [
    "## iTEBD\n",
    "Like power method, apply a function monotonic increase function $f_t$ of the Hamiltonian, which will become extremely sharp as parameter $t$ goes to infinity, s.t. \n",
    "$$\\lim_{t\\to\\infty} f_t(\\hat H)\\ket{\\psi}=\\ket{0}$$\n",
    "+ For Power method, it is $f_t(x)=|x|^t$, so it can find the eigen vector with largest absolute eigenvalue\n",
    "+ For iTEBD, it is $f_t(x)=e^{-tx}$, so it can find eigenvector of lowest eigenvalue"
   ]
  },
  {
   "cell_type": "markdown",
   "metadata": {},
   "source": [
    "### Implementation\n",
    "To apply iTEBD, we need to expand $f_t(\\hat H)$ by Trotter-Suzuki expansion:\n",
    "$$e^{(A+B)\\delta}\\approx e^{A\\delta}e^{B\\delta}+O(\\delta^2)$$\n",
    "+ $A, B$ is the local Hamiltonian operator of odd/even sites $H_{\\rm{odd}}, H_{\\rm{even}}$, respectively\n",
    "+ The elements in expanded operator should be commutable, so that it is readily computable\n",
    "+ For more complex interaction than nearest interaction, there should be more terms like $C, D, E\\ldots$\n",
    "+ The one site translational invariance has broken as the $A, B$ are for two sites "
   ]
  },
  {
   "cell_type": "markdown",
   "metadata": {},
   "source": [
    "## MPO\n",
    "Expressing the Hamiltonian of the system in terms of matrix product operator (MPO). \n",
    "\n",
    "For matrix $M=ABC$,\n",
    "$$M_{il}=A_{ij}B_{jk}C_{kl}, \\quad i\\geq j\\geq k\\geq l$$ only diagonal elements can be used multiple times. If we care about $M_{n1}$ only, then we are finding a path from $n$ to $1$ passing $i,k,l\\ldots$\n",
    "+ One site interaction $n\\to 1$ will pass element $(n, 1)$\n",
    "+ Two sites interaction $n\\to i\\to 1$ will pass elements $(n, i)$ and $(i, 1)$\n",
    "    + Multiple two site interaction can be completed by $L$ shaped matrices with $1$ at ends, which has $n-2$ kinds of paths\n",
    "+ Convoluted multi-interaction? Not physical? $k$ sites $n\\to i_{k-1}\\cdots\\to i_1\\to 1$\n",
    "    + 3 sites, indepedent interaction, $\\dfrac{n-2}{2}$ kinds?\n",
    "+ Sub-nearest interaction? Set some matrices at Convoluted multi-interaction to be $1$\n",
    "\n",
    "For $2\\times 2$ matrix\n",
    "$$M=\\begin{bmatrix}C_i& 0\\\\B_i & A_i \\end{bmatrix}$$\n",
    "the only path survives is $A\\to B\\to C$ where $A, C$ can be repeated for any times as they are diagonal"
   ]
  },
  {
   "cell_type": "code",
   "execution_count": 477,
   "metadata": {
    "collapsed": true
   },
   "outputs": [],
   "source": [
    "from MPO import MPO as O\n",
    "from importlib import reload\n",
    "reload(MPO);"
   ]
  },
  {
   "cell_type": "markdown",
   "metadata": {},
   "source": [
    "### Three sites interaction\n",
    "\n",
    "$$\\sum_i \\left[A_{i-1}\\otimes B_{i}\\otimes C_{i+1}+D_{i-1}\\otimes E_{i}\\otimes F_{i+1}\\right]$$"
   ]
  },
  {
   "cell_type": "code",
   "execution_count": 480,
   "metadata": {},
   "outputs": [
    {
     "data": {
      "text/plain": [
       " 1                      \n",
       " F   ↰                  \n",
       "     E   ↰              \n",
       " C           ↰          \n",
       "             B   ↰      \n",
       "         D       A   1  "
      ]
     },
     "execution_count": 480,
     "metadata": {},
     "output_type": "execute_result"
    }
   ],
   "source": [
    "O('D')*O('E')*O('F')+O('A')*O('B')*O('C')"
   ]
  },
  {
   "cell_type": "markdown",
   "metadata": {},
   "source": [
    "There are two paths: $6\\to5\\to4\\to1$ and $6\\to3\\to2\\to1$, so\n",
    "\n",
    "If $B=E=1$, then this MPO element decribes a sub-nearest interaction. "
   ]
  },
  {
   "cell_type": "markdown",
   "metadata": {},
   "source": [
    "### Simple subnearest interaction\n",
    "Consider Hamiltonian $H=H_0+H_1+H_2$ where $H_0=\\sum A$ is one site, $H_1=\\sum B_i\\otimes C_{i+1}$ for nearest product, and $H_2=\\sum D_{i}\\otimes E_{i+2}$ for subnearest product, i.e.\n",
    "$$\\sum A_i+\\sum B_{i}\\otimes C_{i+1}+\\sum D_{i-1}\\otimes 1_i\\otimes F_{i+1}$$\n",
    "\n",
    "The MPO is"
   ]
  },
  {
   "cell_type": "code",
   "execution_count": 481,
   "metadata": {},
   "outputs": [
    {
     "data": {
      "text/plain": [
       " 1                  \n",
       " C   ↰              \n",
       " E       ↰          \n",
       "         1   ↰      \n",
       " A   B       D   1  "
      ]
     },
     "execution_count": 481,
     "metadata": {},
     "output_type": "execute_result"
    }
   ],
   "source": [
    "O('A')+O('B')*O('C')+O('D')*O('1')*O('E')"
   ]
  },
  {
   "cell_type": "markdown",
   "metadata": {
    "collapsed": true
   },
   "source": [
    "### Picture on MPO\n",
    "Diagramatically, the path should go from bottom line to left line by the way:\n",
    "+ Starting from bottom line with $\\uparrow$ direction\n",
    "+ When going in $\\uparrow$ direction, reflected by diagonal element(may stay for some turns) and then go to the left direction\n",
    "+ When going in $\\leftarrow$ direction, scattered by an element\n",
    "+ Ending at left line with $\\uparrow$ direction"
   ]
  },
  {
   "cell_type": "markdown",
   "metadata": {
    "collapsed": true
   },
   "source": [
    "## iDMRG\n",
    "Advantages:\n",
    "+ Does not rely on Trotter-Suzuki decomposition, so it can be applied to longer range interactions\n",
    "    + Why not iTEBD? Is there a more complicated T-S series? \n",
    "+ High efficiency especially for large correlation length and small energy gap\n",
    "\n",
    "For left/right block, the Hilbert space is $\\chi$, while for each new sites is $d$. The total Hilbert space has dimension $\\chi^2d^2$ thus the Hamiltonian is $\\chi^4d^4$. After computation, truncation is needed to retain a low complexity.\n",
    "+ We have the bases of $L/R$ environment $\\alpha\\beta$ and new sites $jk$, i.e. $\\ket{\\alpha j\\beta k}$\n",
    "+ With MPO, the Hamiltonian can be expressed on such bases?\n",
    "+ Apply SVD decomposition to reduced density matrix of ground state and get approximation for new environment \n",
    "+ New $L/R$ blocks"
   ]
  },
  {
   "cell_type": "markdown",
   "metadata": {},
   "source": [
    "## Finite DMRG\n",
    "The difference to iDMRG is additional back-and-forth sweep. During the sweep, one block increase and the other decrease until reaching the end. "
   ]
  },
  {
   "cell_type": "markdown",
   "metadata": {
    "collapsed": true
   },
   "source": [
    "## References\n",
    "+ Infinite size density matrix renormalization group, revisited by *I.P. McCulloch*\n",
    "+ The phase diagram of the anisotropic spin-2 XXZ model: an infinite system DMRG study by *Jonas A. Kjäll, Michael P. Zaletel, Roger S. K. Mong et.al*"
   ]
  }
 ],
 "metadata": {
  "kernelspec": {
   "display_name": "Python 3",
   "language": "python",
   "name": "python3"
  },
  "language_info": {
   "codemirror_mode": {
    "name": "ipython",
    "version": 3
   },
   "file_extension": ".py",
   "mimetype": "text/x-python",
   "name": "python",
   "nbconvert_exporter": "python",
   "pygments_lexer": "ipython3",
   "version": "3.6.6"
  }
 },
 "nbformat": 4,
 "nbformat_minor": 2
}
